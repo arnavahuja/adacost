{
 "cells": [
  {
   "cell_type": "code",
   "execution_count": 1,
   "metadata": {
    "collapsed": false
   },
   "outputs": [],
   "source": [
    "import pandas as pd\n",
    "import numpy as np\n",
    "\n",
    "from classifier import AdaCost\n",
    "from sklearn.ensemble import RandomForestClassifier, AdaBoostClassifier\n",
    "from sklearn.model_selection import GridSearchCV\n",
    "from sklearn.metrics import make_scorer, confusion_matrix"
   ]
  },
  {
   "cell_type": "code",
   "execution_count": 2,
   "metadata": {
    "collapsed": false
   },
   "outputs": [],
   "source": [
    "train = pd.read_csv(\"data/claims_train.csv\")\n",
    "test = pd.read_csv(\"data/claims_test.csv\")"
   ]
  },
  {
   "cell_type": "markdown",
   "metadata": {},
   "source": [
    "### The target is bucket2009 which has 5 classes."
   ]
  },
  {
   "cell_type": "code",
   "execution_count": 3,
   "metadata": {
    "collapsed": false
   },
   "outputs": [
    {
     "data": {
      "text/html": [
       "<div>\n",
       "<table border=\"1\" class=\"dataframe\">\n",
       "  <thead>\n",
       "    <tr style=\"text-align: right;\">\n",
       "      <th></th>\n",
       "      <th>age</th>\n",
       "      <th>alzheimers</th>\n",
       "      <th>arthritis</th>\n",
       "      <th>cancer</th>\n",
       "      <th>copd</th>\n",
       "      <th>depression</th>\n",
       "      <th>diabetes</th>\n",
       "      <th>heart.failure</th>\n",
       "      <th>ihd</th>\n",
       "      <th>kidney</th>\n",
       "      <th>osteoporosis</th>\n",
       "      <th>stroke</th>\n",
       "      <th>reimbursement2008</th>\n",
       "      <th>bucket2008</th>\n",
       "      <th>reimbursement2009</th>\n",
       "      <th>bucket2009</th>\n",
       "    </tr>\n",
       "  </thead>\n",
       "  <tbody>\n",
       "    <tr>\n",
       "      <th>0</th>\n",
       "      <td>85</td>\n",
       "      <td>0</td>\n",
       "      <td>0</td>\n",
       "      <td>0</td>\n",
       "      <td>0</td>\n",
       "      <td>0</td>\n",
       "      <td>0</td>\n",
       "      <td>0</td>\n",
       "      <td>0</td>\n",
       "      <td>0</td>\n",
       "      <td>0</td>\n",
       "      <td>0</td>\n",
       "      <td>0</td>\n",
       "      <td>1</td>\n",
       "      <td>0</td>\n",
       "      <td>1</td>\n",
       "    </tr>\n",
       "    <tr>\n",
       "      <th>1</th>\n",
       "      <td>59</td>\n",
       "      <td>0</td>\n",
       "      <td>0</td>\n",
       "      <td>0</td>\n",
       "      <td>0</td>\n",
       "      <td>0</td>\n",
       "      <td>0</td>\n",
       "      <td>0</td>\n",
       "      <td>0</td>\n",
       "      <td>0</td>\n",
       "      <td>0</td>\n",
       "      <td>0</td>\n",
       "      <td>0</td>\n",
       "      <td>1</td>\n",
       "      <td>0</td>\n",
       "      <td>1</td>\n",
       "    </tr>\n",
       "    <tr>\n",
       "      <th>2</th>\n",
       "      <td>52</td>\n",
       "      <td>0</td>\n",
       "      <td>0</td>\n",
       "      <td>0</td>\n",
       "      <td>0</td>\n",
       "      <td>0</td>\n",
       "      <td>0</td>\n",
       "      <td>0</td>\n",
       "      <td>0</td>\n",
       "      <td>0</td>\n",
       "      <td>0</td>\n",
       "      <td>0</td>\n",
       "      <td>0</td>\n",
       "      <td>1</td>\n",
       "      <td>0</td>\n",
       "      <td>1</td>\n",
       "    </tr>\n",
       "    <tr>\n",
       "      <th>3</th>\n",
       "      <td>75</td>\n",
       "      <td>0</td>\n",
       "      <td>0</td>\n",
       "      <td>0</td>\n",
       "      <td>0</td>\n",
       "      <td>0</td>\n",
       "      <td>0</td>\n",
       "      <td>0</td>\n",
       "      <td>0</td>\n",
       "      <td>0</td>\n",
       "      <td>0</td>\n",
       "      <td>0</td>\n",
       "      <td>0</td>\n",
       "      <td>1</td>\n",
       "      <td>0</td>\n",
       "      <td>1</td>\n",
       "    </tr>\n",
       "    <tr>\n",
       "      <th>4</th>\n",
       "      <td>89</td>\n",
       "      <td>0</td>\n",
       "      <td>0</td>\n",
       "      <td>0</td>\n",
       "      <td>0</td>\n",
       "      <td>0</td>\n",
       "      <td>0</td>\n",
       "      <td>0</td>\n",
       "      <td>0</td>\n",
       "      <td>0</td>\n",
       "      <td>0</td>\n",
       "      <td>0</td>\n",
       "      <td>0</td>\n",
       "      <td>1</td>\n",
       "      <td>0</td>\n",
       "      <td>1</td>\n",
       "    </tr>\n",
       "  </tbody>\n",
       "</table>\n",
       "</div>"
      ],
      "text/plain": [
       "   age  alzheimers  arthritis  cancer  copd  depression  diabetes  \\\n",
       "0   85           0          0       0     0           0         0   \n",
       "1   59           0          0       0     0           0         0   \n",
       "2   52           0          0       0     0           0         0   \n",
       "3   75           0          0       0     0           0         0   \n",
       "4   89           0          0       0     0           0         0   \n",
       "\n",
       "   heart.failure  ihd  kidney  osteoporosis  stroke  reimbursement2008  \\\n",
       "0              0    0       0             0       0                  0   \n",
       "1              0    0       0             0       0                  0   \n",
       "2              0    0       0             0       0                  0   \n",
       "3              0    0       0             0       0                  0   \n",
       "4              0    0       0             0       0                  0   \n",
       "\n",
       "   bucket2008  reimbursement2009  bucket2009  \n",
       "0           1                  0           1  \n",
       "1           1                  0           1  \n",
       "2           1                  0           1  \n",
       "3           1                  0           1  \n",
       "4           1                  0           1  "
      ]
     },
     "execution_count": 3,
     "metadata": {},
     "output_type": "execute_result"
    }
   ],
   "source": [
    "train.head()"
   ]
  },
  {
   "cell_type": "markdown",
   "metadata": {},
   "source": [
    "### Cost Matrix where the rows are predicted classes and columns are actual classes"
   ]
  },
  {
   "cell_type": "code",
   "execution_count": 3,
   "metadata": {
    "collapsed": true
   },
   "outputs": [],
   "source": [
    "cost_matrix = np.array([[0.0,2.0,4.0,6.0,8.0],\n",
    "                        [1.0,0.0,2.0,4.0,6.0],\n",
    "                        [2.0,1.0,0.0,2.0,4.0],\n",
    "                        [3.0,2.0,1.0,0.0,2.0],\n",
    "                        [4.0,3.0,2.0,1.0,0.0]])"
   ]
  },
  {
   "cell_type": "code",
   "execution_count": 4,
   "metadata": {
    "collapsed": true
   },
   "outputs": [],
   "source": [
    "X_train = train.drop('bucket2009',axis = 1)    \n",
    "y_train = train['bucket2009']\n",
    "X_test = test.drop('bucket2009', axis = 1)\n",
    "y_test = test['bucket2009']"
   ]
  },
  {
   "cell_type": "markdown",
   "metadata": {},
   "source": [
    "### Cost Calculation Function"
   ]
  },
  {
   "cell_type": "code",
   "execution_count": 6,
   "metadata": {
    "collapsed": true
   },
   "outputs": [],
   "source": [
    "def cost_calc(y_p,y,print_result = False):\n",
    "    con_mat = confusion_matrix(y_p,y)\n",
    "    cost_mat = np.multiply(con_mat,cost_matrix)\n",
    "    cost = np.sum(np.multiply(con_mat,cost_matrix))/len(y) \n",
    "    if print_result:\n",
    "        print \"Confusion Matrix\\n\",con_mat\n",
    "        print \"Costs\\n\",cost_mat\n",
    "        print \"Total Cost = \", cost\n",
    "    else:\n",
    "        return cost"
   ]
  },
  {
   "cell_type": "markdown",
   "metadata": {},
   "source": [
    "### Score for cross-validation"
   ]
  },
  {
   "cell_type": "code",
   "execution_count": 7,
   "metadata": {
    "collapsed": false
   },
   "outputs": [],
   "source": [
    "score = make_scorer(cost_calc,greater_is_better = False)"
   ]
  },
  {
   "cell_type": "markdown",
   "metadata": {},
   "source": [
    "## Model Results"
   ]
  },
  {
   "cell_type": "markdown",
   "metadata": {},
   "source": [
    "### Baseline Model - If bucket2008 was used to predict bucket2009"
   ]
  },
  {
   "cell_type": "code",
   "execution_count": 18,
   "metadata": {
    "collapsed": false
   },
   "outputs": [
    {
     "name": "stdout",
     "output_type": "stream",
     "text": [
      "Confusion Matrix\n",
      "[[110138  16000   7006   2688    293]\n",
      " [  7787  10721   4629   1943    191]\n",
      " [  3427   4629   2774   1415    160]\n",
      " [  1452   2931   1621   1539    309]\n",
      " [   174    559    360    352    104]]\n",
      "Costs\n",
      "[[     0.  32000.  28024.  16128.   2344.]\n",
      " [  7787.      0.   9258.   7772.   1146.]\n",
      " [  6854.   4629.      0.   2830.    640.]\n",
      " [  4356.   5862.   1621.      0.    618.]\n",
      " [   696.   1677.    720.    352.      0.]]\n",
      "Total Cost =  0.738605473739\n"
     ]
    }
   ],
   "source": [
    "cost_calc(test['bucket2008'],test['bucket2009'],True) "
   ]
  },
  {
   "cell_type": "markdown",
   "metadata": {},
   "source": [
    "### Random Forest"
   ]
  },
  {
   "cell_type": "code",
   "execution_count": 20,
   "metadata": {
    "collapsed": false
   },
   "outputs": [
    {
     "name": "stdout",
     "output_type": "stream",
     "text": [
      "Confusion Matrix\n",
      "[[122978      0      0      1      0]\n",
      " [     0  34839      9      2      2]\n",
      " [     0      1  16380    107     29]\n",
      " [     0      0      1   7825    297]\n",
      " [     0      0      0      2    729]]\n",
      "Costs\n",
      "[[   0.    0.    0.    6.    0.]\n",
      " [   0.    0.   18.    8.   12.]\n",
      " [   0.    1.    0.  214.  116.]\n",
      " [   0.    0.    1.    0.  594.]\n",
      " [   0.    0.    0.    2.    0.]]\n",
      "Total Cost =  0.00530561893429\n"
     ]
    }
   ],
   "source": [
    "clf = RandomForestClassifier(random_state = 100)\n",
    "clf.fit(X_train,y_train)\n",
    "y_pred = clf.predict(X_test)\n",
    "cost_calc(y_pred,y_test,True)"
   ]
  },
  {
   "cell_type": "markdown",
   "metadata": {},
   "source": [
    "### Adaboost"
   ]
  },
  {
   "cell_type": "code",
   "execution_count": 31,
   "metadata": {
    "collapsed": false
   },
   "outputs": [
    {
     "name": "stdout",
     "output_type": "stream",
     "text": [
      "Confusion Matrix\n",
      "[[122978      0      0      0      0]\n",
      " [     0  34840  16390   7936      0]\n",
      " [     0      0      0      0      0]\n",
      " [     0      0      0      0      0]\n",
      " [     0      0      0      1   1057]]\n",
      "Costs\n",
      "[[  0.00000000e+00   0.00000000e+00   0.00000000e+00   0.00000000e+00\n",
      "    0.00000000e+00]\n",
      " [  0.00000000e+00   0.00000000e+00   3.27800000e+04   3.17440000e+04\n",
      "    0.00000000e+00]\n",
      " [  0.00000000e+00   0.00000000e+00   0.00000000e+00   0.00000000e+00\n",
      "    0.00000000e+00]\n",
      " [  0.00000000e+00   0.00000000e+00   0.00000000e+00   0.00000000e+00\n",
      "    0.00000000e+00]\n",
      " [  0.00000000e+00   0.00000000e+00   0.00000000e+00   1.00000000e+00\n",
      "    0.00000000e+00]]\n",
      "Total Cost =  0.352206853637\n"
     ]
    }
   ],
   "source": [
    "ada = AdaBoostClassifier(random_state = 100)\n",
    "ada.fit(X_train,y_train)\n",
    "y_pred = ada.predict(X_test)\n",
    "cost_calc(y_pred,y_test,True)"
   ]
  },
  {
   "cell_type": "markdown",
   "metadata": {},
   "source": [
    "### Adacost - SAMME.R"
   ]
  },
  {
   "cell_type": "code",
   "execution_count": 9,
   "metadata": {
    "collapsed": false
   },
   "outputs": [
    {
     "name": "stdout",
     "output_type": "stream",
     "text": [
      "Confusion Matrix\n",
      "[[     0      0      0      0      0]\n",
      " [     0      0      0      0      0]\n",
      " [122978  34840  16390   7642      0]\n",
      " [     0      0      0      0      0]\n",
      " [     0      0      0    295   1057]]\n",
      "Costs\n",
      "[[      0.       0.       0.       0.       0.]\n",
      " [      0.       0.       0.       0.       0.]\n",
      " [ 245956.   34840.       0.   15284.       0.]\n",
      " [      0.       0.       0.       0.       0.]\n",
      " [      0.       0.       0.     295.       0.]]\n",
      "Total Cost =  1.61774980622\n"
     ]
    }
   ],
   "source": [
    "adac = AdaCost(algorithm = \"SAMME.R\", cost_matrix = cost_matrix, random_state = 100)\n",
    "adac.fit(X_train,y_train)\n",
    "y_pred = adac.predict(X_test)\n",
    "cost_calc(y_pred,y_test,True)"
   ]
  },
  {
   "cell_type": "markdown",
   "metadata": {},
   "source": [
    "### Adacost - SAMME "
   ]
  },
  {
   "cell_type": "code",
   "execution_count": 10,
   "metadata": {
    "collapsed": false
   },
   "outputs": [
    {
     "name": "stdout",
     "output_type": "stream",
     "text": [
      "Confusion Matrix\n",
      "[[     0      0      0      0      0]\n",
      " [     0      0      0      0      0]\n",
      " [     0      0      0      0      0]\n",
      " [     0      0      0      0      0]\n",
      " [122978  34840  16390   7937   1057]]\n",
      "Costs\n",
      "[[      0.       0.       0.       0.       0.]\n",
      " [      0.       0.       0.       0.       0.]\n",
      " [      0.       0.       0.       0.       0.]\n",
      " [      0.       0.       0.       0.       0.]\n",
      " [ 491912.  104520.   32780.    7937.       0.]]\n",
      "Total Cost =  3.47784958679\n"
     ]
    }
   ],
   "source": [
    "adac = AdaCost(algorithm = \"SAMME\", cost_matrix = cost_matrix, random_state = 100)\n",
    "adac.fit(X_train,y_train)\n",
    "y_pred = adac.predict(X_test)\n",
    "cost_calc(y_pred,y_test,True)"
   ]
  },
  {
   "cell_type": "markdown",
   "metadata": {},
   "source": [
    "## Paramter Tuning"
   ]
  },
  {
   "cell_type": "markdown",
   "metadata": {},
   "source": [
    "### Adaboost - SAMME.R"
   ]
  },
  {
   "cell_type": "code",
   "execution_count": 12,
   "metadata": {
    "collapsed": false
   },
   "outputs": [],
   "source": [
    "ada = AdaBoostClassifier(algorithm = \"SAMME.R\",random_state = 100)\n",
    "cv = GridSearchCV(ada,\n",
    "                  param_grid = {'learning_rate':[0.01,0.05,0.1,0.25,0.5,1],'n_estimators':[10,20,50,100,200]},\n",
    "                  scoring = score,\n",
    "                  verbose = 1, \n",
    "                  n_jobs = 1)"
   ]
  },
  {
   "cell_type": "code",
   "execution_count": 13,
   "metadata": {
    "collapsed": false
   },
   "outputs": [
    {
     "name": "stdout",
     "output_type": "stream",
     "text": [
      "Fitting 3 folds for each of 30 candidates, totalling 90 fits\n"
     ]
    },
    {
     "name": "stderr",
     "output_type": "stream",
     "text": [
      "[Parallel(n_jobs=1)]: Done  90 out of  90 | elapsed: 30.8min finished\n"
     ]
    },
    {
     "data": {
      "text/plain": [
       "GridSearchCV(cv=None, error_score='raise',\n",
       "       estimator=AdaBoostClassifier(algorithm='SAMME.R', base_estimator=None,\n",
       "          learning_rate=1.0, n_estimators=50, random_state=100),\n",
       "       fit_params={}, iid=True, n_jobs=1,\n",
       "       param_grid={'n_estimators': [10, 20, 50, 100, 200], 'learning_rate': [0.01, 0.05, 0.1, 0.25, 0.5, 1]},\n",
       "       pre_dispatch='2*n_jobs', refit=True, return_train_score=True,\n",
       "       scoring=make_scorer(cost_calc, greater_is_better=False), verbose=1)"
      ]
     },
     "execution_count": 13,
     "metadata": {},
     "output_type": "execute_result"
    }
   ],
   "source": [
    "cv.fit(X_train,y_train)"
   ]
  },
  {
   "cell_type": "code",
   "execution_count": 14,
   "metadata": {
    "collapsed": false
   },
   "outputs": [
    {
     "name": "stderr",
     "output_type": "stream",
     "text": [
      "C:\\Users\\R51468\\AppData\\Local\\Continuum\\Anaconda2\\lib\\site-packages\\sklearn\\model_selection\\_search.py:662: DeprecationWarning: The grid_scores_ attribute was deprecated in version 0.18 in favor of the more elaborate cv_results_ attribute. The grid_scores_ attribute will not be available from 0.20\n",
      "  DeprecationWarning)\n"
     ]
    },
    {
     "data": {
      "text/plain": [
       "[mean: -0.40822, std: 0.23420, params: {'n_estimators': 10, 'learning_rate': 0.01},\n",
       " mean: -0.33723, std: 0.29815, params: {'n_estimators': 20, 'learning_rate': 0.01},\n",
       " mean: -0.32078, std: 0.32836, params: {'n_estimators': 50, 'learning_rate': 0.01},\n",
       " mean: -0.32078, std: 0.32836, params: {'n_estimators': 100, 'learning_rate': 0.01},\n",
       " mean: -0.32078, std: 0.32836, params: {'n_estimators': 200, 'learning_rate': 0.01},\n",
       " mean: -0.32078, std: 0.32836, params: {'n_estimators': 10, 'learning_rate': 0.05},\n",
       " mean: -0.32078, std: 0.32836, params: {'n_estimators': 20, 'learning_rate': 0.05},\n",
       " mean: -0.32078, std: 0.32836, params: {'n_estimators': 50, 'learning_rate': 0.05},\n",
       " mean: -0.32078, std: 0.32836, params: {'n_estimators': 100, 'learning_rate': 0.05},\n",
       " mean: -0.32078, std: 0.32836, params: {'n_estimators': 200, 'learning_rate': 0.05},\n",
       " mean: -0.32078, std: 0.32836, params: {'n_estimators': 10, 'learning_rate': 0.1},\n",
       " mean: -0.32078, std: 0.32836, params: {'n_estimators': 20, 'learning_rate': 0.1},\n",
       " mean: -0.32078, std: 0.32836, params: {'n_estimators': 50, 'learning_rate': 0.1},\n",
       " mean: -0.32078, std: 0.32836, params: {'n_estimators': 100, 'learning_rate': 0.1},\n",
       " mean: -0.32078, std: 0.32836, params: {'n_estimators': 200, 'learning_rate': 0.1},\n",
       " mean: -0.32078, std: 0.32836, params: {'n_estimators': 10, 'learning_rate': 0.25},\n",
       " mean: -0.32078, std: 0.32836, params: {'n_estimators': 20, 'learning_rate': 0.25},\n",
       " mean: -0.32078, std: 0.32836, params: {'n_estimators': 50, 'learning_rate': 0.25},\n",
       " mean: -0.32078, std: 0.32836, params: {'n_estimators': 100, 'learning_rate': 0.25},\n",
       " mean: -0.32078, std: 0.32836, params: {'n_estimators': 200, 'learning_rate': 0.25},\n",
       " mean: -0.32078, std: 0.32836, params: {'n_estimators': 10, 'learning_rate': 0.5},\n",
       " mean: -0.32078, std: 0.32836, params: {'n_estimators': 20, 'learning_rate': 0.5},\n",
       " mean: -0.32078, std: 0.32836, params: {'n_estimators': 50, 'learning_rate': 0.5},\n",
       " mean: -0.32078, std: 0.32836, params: {'n_estimators': 100, 'learning_rate': 0.5},\n",
       " mean: -0.32078, std: 0.32836, params: {'n_estimators': 200, 'learning_rate': 0.5},\n",
       " mean: -0.39328, std: 0.23311, params: {'n_estimators': 10, 'learning_rate': 1},\n",
       " mean: -0.39328, std: 0.23311, params: {'n_estimators': 20, 'learning_rate': 1},\n",
       " mean: -0.39328, std: 0.23311, params: {'n_estimators': 50, 'learning_rate': 1},\n",
       " mean: -0.39328, std: 0.23311, params: {'n_estimators': 100, 'learning_rate': 1},\n",
       " mean: -0.39328, std: 0.23311, params: {'n_estimators': 200, 'learning_rate': 1}]"
      ]
     },
     "execution_count": 14,
     "metadata": {},
     "output_type": "execute_result"
    }
   ],
   "source": [
    "cv.grid_scores_"
   ]
  },
  {
   "cell_type": "code",
   "execution_count": 15,
   "metadata": {
    "collapsed": false
   },
   "outputs": [
    {
     "data": {
      "text/plain": [
       "({'learning_rate': 0.01, 'n_estimators': 50}, -0.32077524626732606)"
      ]
     },
     "execution_count": 15,
     "metadata": {},
     "output_type": "execute_result"
    }
   ],
   "source": [
    "cv.best_params_,cv.best_score_"
   ]
  },
  {
   "cell_type": "code",
   "execution_count": 16,
   "metadata": {
    "collapsed": true
   },
   "outputs": [],
   "source": [
    "ada_cv = cv.best_estimator_"
   ]
  },
  {
   "cell_type": "code",
   "execution_count": 17,
   "metadata": {
    "collapsed": false
   },
   "outputs": [
    {
     "name": "stdout",
     "output_type": "stream",
     "text": [
      "Confusion Matrix\n",
      "[[122978      0      0      0      0]\n",
      " [     0  34840      0      0      0]\n",
      " [     0      0  16390      0      0]\n",
      " [     0      0      0   7937   1057]\n",
      " [     0      0      0      0      0]]\n",
      "Costs\n",
      "[[    0.     0.     0.     0.     0.]\n",
      " [    0.     0.     0.     0.     0.]\n",
      " [    0.     0.     0.     0.     0.]\n",
      " [    0.     0.     0.     0.  2114.]\n",
      " [    0.     0.     0.     0.     0.]]\n",
      "Total Cost =  0.0115391753365\n"
     ]
    }
   ],
   "source": [
    "y_pred = ada_cv.predict(X_test)\n",
    "cost_calc(y_pred,y_test,True)"
   ]
  },
  {
   "cell_type": "markdown",
   "metadata": {},
   "source": [
    "### Adaboost - SAMME"
   ]
  },
  {
   "cell_type": "code",
   "execution_count": 18,
   "metadata": {
    "collapsed": true
   },
   "outputs": [],
   "source": [
    "ada = AdaBoostClassifier(algorithm = \"SAMME\",random_state = 100)\n",
    "cv = GridSearchCV(ada,\n",
    "                  param_grid = {'learning_rate':[0.01,0.05,0.1,0.25,0.5,1],'n_estimators':[10,20,50,100,200]},\n",
    "                  scoring = score,\n",
    "                  verbose = 1, \n",
    "                  n_jobs = 1)"
   ]
  },
  {
   "cell_type": "code",
   "execution_count": 19,
   "metadata": {
    "collapsed": false
   },
   "outputs": [
    {
     "name": "stdout",
     "output_type": "stream",
     "text": [
      "Fitting 3 folds for each of 30 candidates, totalling 90 fits\n"
     ]
    },
    {
     "name": "stderr",
     "output_type": "stream",
     "text": [
      "[Parallel(n_jobs=1)]: Done  90 out of  90 | elapsed: 18.0min finished\n"
     ]
    },
    {
     "data": {
      "text/plain": [
       "GridSearchCV(cv=None, error_score='raise',\n",
       "       estimator=AdaBoostClassifier(algorithm='SAMME', base_estimator=None, learning_rate=1.0,\n",
       "          n_estimators=50, random_state=100),\n",
       "       fit_params={}, iid=True, n_jobs=1,\n",
       "       param_grid={'n_estimators': [10, 20, 50, 100, 200], 'learning_rate': [0.01, 0.05, 0.1, 0.25, 0.5, 1]},\n",
       "       pre_dispatch='2*n_jobs', refit=True, return_train_score=True,\n",
       "       scoring=make_scorer(cost_calc, greater_is_better=False), verbose=1)"
      ]
     },
     "execution_count": 19,
     "metadata": {},
     "output_type": "execute_result"
    }
   ],
   "source": [
    "cv.fit(X_train,y_train)"
   ]
  },
  {
   "cell_type": "code",
   "execution_count": 20,
   "metadata": {
    "collapsed": false
   },
   "outputs": [
    {
     "name": "stderr",
     "output_type": "stream",
     "text": [
      "C:\\Users\\R51468\\AppData\\Local\\Continuum\\Anaconda2\\lib\\site-packages\\sklearn\\model_selection\\_search.py:662: DeprecationWarning: The grid_scores_ attribute was deprecated in version 0.18 in favor of the more elaborate cv_results_ attribute. The grid_scores_ attribute will not be available from 0.20\n",
      "  DeprecationWarning)\n"
     ]
    },
    {
     "data": {
      "text/plain": [
       "[mean: -0.40822, std: 0.23420, params: {'n_estimators': 10, 'learning_rate': 0.01},\n",
       " mean: -0.40822, std: 0.23420, params: {'n_estimators': 20, 'learning_rate': 0.01},\n",
       " mean: -0.40822, std: 0.23420, params: {'n_estimators': 50, 'learning_rate': 0.01},\n",
       " mean: -0.40822, std: 0.23420, params: {'n_estimators': 100, 'learning_rate': 0.01},\n",
       " mean: -0.40822, std: 0.23420, params: {'n_estimators': 200, 'learning_rate': 0.01},\n",
       " mean: -0.40822, std: 0.23420, params: {'n_estimators': 10, 'learning_rate': 0.05},\n",
       " mean: -0.40822, std: 0.23420, params: {'n_estimators': 20, 'learning_rate': 0.05},\n",
       " mean: -0.40822, std: 0.23420, params: {'n_estimators': 50, 'learning_rate': 0.05},\n",
       " mean: -0.33723, std: 0.29815, params: {'n_estimators': 100, 'learning_rate': 0.05},\n",
       " mean: -0.32078, std: 0.32836, params: {'n_estimators': 200, 'learning_rate': 0.05},\n",
       " mean: -0.40822, std: 0.23420, params: {'n_estimators': 10, 'learning_rate': 0.1},\n",
       " mean: -0.40822, std: 0.23420, params: {'n_estimators': 20, 'learning_rate': 0.1},\n",
       " mean: -0.33723, std: 0.29815, params: {'n_estimators': 50, 'learning_rate': 0.1},\n",
       " mean: -0.32766, std: 0.29146, params: {'n_estimators': 100, 'learning_rate': 0.1},\n",
       " mean: -0.32766, std: 0.29146, params: {'n_estimators': 200, 'learning_rate': 0.1},\n",
       " mean: -0.40822, std: 0.23420, params: {'n_estimators': 10, 'learning_rate': 0.25},\n",
       " mean: -0.33723, std: 0.29815, params: {'n_estimators': 20, 'learning_rate': 0.25},\n",
       " mean: -0.32078, std: 0.32836, params: {'n_estimators': 50, 'learning_rate': 0.25},\n",
       " mean: -0.32078, std: 0.32836, params: {'n_estimators': 100, 'learning_rate': 0.25},\n",
       " mean: -0.32078, std: 0.32836, params: {'n_estimators': 200, 'learning_rate': 0.25},\n",
       " mean: -0.33723, std: 0.29815, params: {'n_estimators': 10, 'learning_rate': 0.5},\n",
       " mean: -0.32766, std: 0.29146, params: {'n_estimators': 20, 'learning_rate': 0.5},\n",
       " mean: -0.32766, std: 0.29146, params: {'n_estimators': 50, 'learning_rate': 0.5},\n",
       " mean: -0.32766, std: 0.29146, params: {'n_estimators': 100, 'learning_rate': 0.5},\n",
       " mean: -0.32766, std: 0.29146, params: {'n_estimators': 200, 'learning_rate': 0.5},\n",
       " mean: -0.32078, std: 0.32836, params: {'n_estimators': 10, 'learning_rate': 1},\n",
       " mean: -0.32078, std: 0.32836, params: {'n_estimators': 20, 'learning_rate': 1},\n",
       " mean: -0.32078, std: 0.32836, params: {'n_estimators': 50, 'learning_rate': 1},\n",
       " mean: -0.32078, std: 0.32836, params: {'n_estimators': 100, 'learning_rate': 1},\n",
       " mean: -0.32078, std: 0.32836, params: {'n_estimators': 200, 'learning_rate': 1}]"
      ]
     },
     "execution_count": 20,
     "metadata": {},
     "output_type": "execute_result"
    }
   ],
   "source": [
    "cv.grid_scores_"
   ]
  },
  {
   "cell_type": "code",
   "execution_count": 21,
   "metadata": {
    "collapsed": false
   },
   "outputs": [
    {
     "data": {
      "text/plain": [
       "({'learning_rate': 0.05, 'n_estimators': 200}, -0.32077524626732606)"
      ]
     },
     "execution_count": 21,
     "metadata": {},
     "output_type": "execute_result"
    }
   ],
   "source": [
    "cv.best_params_,cv.best_score_"
   ]
  },
  {
   "cell_type": "code",
   "execution_count": 22,
   "metadata": {
    "collapsed": true
   },
   "outputs": [],
   "source": [
    "ada_cv = cv.best_estimator_"
   ]
  },
  {
   "cell_type": "code",
   "execution_count": 23,
   "metadata": {
    "collapsed": false
   },
   "outputs": [
    {
     "name": "stdout",
     "output_type": "stream",
     "text": [
      "Confusion Matrix\n",
      "[[122978      0      0      0      0]\n",
      " [     0  34840      0      0      0]\n",
      " [     0      0  16390      0      0]\n",
      " [     0      0      0   7937   1057]\n",
      " [     0      0      0      0      0]]\n",
      "Costs\n",
      "[[    0.     0.     0.     0.     0.]\n",
      " [    0.     0.     0.     0.     0.]\n",
      " [    0.     0.     0.     0.     0.]\n",
      " [    0.     0.     0.     0.  2114.]\n",
      " [    0.     0.     0.     0.     0.]]\n",
      "Total Cost =  0.0115391753365\n"
     ]
    }
   ],
   "source": [
    "y_pred = ada_cv.predict(X_test)\n",
    "cost_calc(y_pred,y_test,True)"
   ]
  },
  {
   "cell_type": "markdown",
   "metadata": {},
   "source": [
    "### Adacost - SAMME.R (max_depth = 1)"
   ]
  },
  {
   "cell_type": "code",
   "execution_count": 24,
   "metadata": {
    "collapsed": true
   },
   "outputs": [],
   "source": [
    "adac = AdaCost(algorithm = \"SAMME.R\", cost_matrix = cost_matrix, random_state = 100)\n",
    "cv = GridSearchCV(adac,\n",
    "                  param_grid = {'learning_rate':[0.01,0.05,0.1,0.25,0.5,1],'n_estimators':[10,20,50,100,200]},\n",
    "                  scoring = score,\n",
    "                  verbose = 1, \n",
    "                  n_jobs = 1)"
   ]
  },
  {
   "cell_type": "code",
   "execution_count": 25,
   "metadata": {
    "collapsed": false
   },
   "outputs": [
    {
     "name": "stdout",
     "output_type": "stream",
     "text": [
      "Fitting 3 folds for each of 30 candidates, totalling 90 fits\n"
     ]
    },
    {
     "name": "stderr",
     "output_type": "stream",
     "text": [
      "[Parallel(n_jobs=1)]: Done  90 out of  90 | elapsed: 37.4min finished\n"
     ]
    },
    {
     "data": {
      "text/plain": [
       "GridSearchCV(cv=None, error_score='raise',\n",
       "       estimator=AdaCost(algorithm='SAMME.R', base_estimator=None,\n",
       "    cost_matrix=array([[ 0.,  2.,  4.,  6.,  8.],\n",
       "       [ 1.,  0.,  2.,  4.,  6.],\n",
       "       [ 2.,  1.,  0.,  2.,  4.],\n",
       "       [ 3.,  2.,  1.,  0.,  2.],\n",
       "       [ 4.,  3.,  2.,  1.,  0.]]),\n",
       "    learning_rate=1.0, n_estimators=50, random_state=100),\n",
       "       fit_params={}, iid=True, n_jobs=1,\n",
       "       param_grid={'n_estimators': [10, 20, 50, 100, 200], 'learning_rate': [0.01, 0.05, 0.1, 0.25, 0.5, 1]},\n",
       "       pre_dispatch='2*n_jobs', refit=True, return_train_score=True,\n",
       "       scoring=make_scorer(cost_calc, greater_is_better=False), verbose=1)"
      ]
     },
     "execution_count": 25,
     "metadata": {},
     "output_type": "execute_result"
    }
   ],
   "source": [
    "cv.fit(X_train,y_train)"
   ]
  },
  {
   "cell_type": "code",
   "execution_count": 28,
   "metadata": {
    "collapsed": false
   },
   "outputs": [
    {
     "name": "stderr",
     "output_type": "stream",
     "text": [
      "C:\\Users\\R51468\\AppData\\Local\\Continuum\\Anaconda2\\lib\\site-packages\\sklearn\\model_selection\\_search.py:662: DeprecationWarning: The grid_scores_ attribute was deprecated in version 0.18 in favor of the more elaborate cv_results_ attribute. The grid_scores_ attribute will not be available from 0.20\n",
      "  DeprecationWarning)\n"
     ]
    },
    {
     "data": {
      "text/plain": [
       "[mean: -0.40822, std: 0.23420, params: {'n_estimators': 10, 'learning_rate': 0.01},\n",
       " mean: -0.40822, std: 0.23420, params: {'n_estimators': 20, 'learning_rate': 0.01},\n",
       " mean: -0.40822, std: 0.23420, params: {'n_estimators': 50, 'learning_rate': 0.01},\n",
       " mean: -0.40822, std: 0.23420, params: {'n_estimators': 100, 'learning_rate': 0.01},\n",
       " mean: -0.40822, std: 0.23420, params: {'n_estimators': 200, 'learning_rate': 0.01},\n",
       " mean: -0.40822, std: 0.23420, params: {'n_estimators': 10, 'learning_rate': 0.05},\n",
       " mean: -0.40822, std: 0.23420, params: {'n_estimators': 20, 'learning_rate': 0.05},\n",
       " mean: -0.40822, std: 0.23420, params: {'n_estimators': 50, 'learning_rate': 0.05},\n",
       " mean: -0.40822, std: 0.23420, params: {'n_estimators': 100, 'learning_rate': 0.05},\n",
       " mean: -0.40822, std: 0.23420, params: {'n_estimators': 200, 'learning_rate': 0.05},\n",
       " mean: -0.40822, std: 0.23420, params: {'n_estimators': 10, 'learning_rate': 0.1},\n",
       " mean: -0.40822, std: 0.23420, params: {'n_estimators': 20, 'learning_rate': 0.1},\n",
       " mean: -0.40822, std: 0.23420, params: {'n_estimators': 50, 'learning_rate': 0.1},\n",
       " mean: -0.40822, std: 0.23420, params: {'n_estimators': 100, 'learning_rate': 0.1},\n",
       " mean: -0.40822, std: 0.23420, params: {'n_estimators': 200, 'learning_rate': 0.1},\n",
       " mean: -0.40822, std: 0.23420, params: {'n_estimators': 10, 'learning_rate': 0.25},\n",
       " mean: -0.40822, std: 0.23420, params: {'n_estimators': 20, 'learning_rate': 0.25},\n",
       " mean: -0.40822, std: 0.23420, params: {'n_estimators': 50, 'learning_rate': 0.25},\n",
       " mean: -0.40822, std: 0.23420, params: {'n_estimators': 100, 'learning_rate': 0.25},\n",
       " mean: -0.40822, std: 0.23420, params: {'n_estimators': 200, 'learning_rate': 0.25},\n",
       " mean: -0.39090, std: 0.23421, params: {'n_estimators': 10, 'learning_rate': 0.5},\n",
       " mean: -0.33272, std: 0.11661, params: {'n_estimators': 20, 'learning_rate': 0.5},\n",
       " mean: -0.50284, std: 0.02000, params: {'n_estimators': 50, 'learning_rate': 0.5},\n",
       " mean: -0.49040, std: 0.03559, params: {'n_estimators': 100, 'learning_rate': 0.5},\n",
       " mean: -1.95591, std: 2.13198, params: {'n_estimators': 200, 'learning_rate': 0.5},\n",
       " mean: -3.12317, std: 0.02046, params: {'n_estimators': 10, 'learning_rate': 1},\n",
       " mean: -3.12317, std: 0.02046, params: {'n_estimators': 20, 'learning_rate': 1},\n",
       " mean: -3.13761, std: 0.02045, params: {'n_estimators': 50, 'learning_rate': 1},\n",
       " mean: -3.13761, std: 0.02045, params: {'n_estimators': 100, 'learning_rate': 1},\n",
       " mean: -3.13761, std: 0.02045, params: {'n_estimators': 200, 'learning_rate': 1}]"
      ]
     },
     "execution_count": 28,
     "metadata": {},
     "output_type": "execute_result"
    }
   ],
   "source": [
    "cv.grid_scores_"
   ]
  },
  {
   "cell_type": "code",
   "execution_count": 29,
   "metadata": {
    "collapsed": false
   },
   "outputs": [
    {
     "data": {
      "text/plain": [
       "({'learning_rate': 0.5, 'n_estimators': 20}, -0.33272198629563726)"
      ]
     },
     "execution_count": 29,
     "metadata": {},
     "output_type": "execute_result"
    }
   ],
   "source": [
    "cv.best_params_,cv.best_score_"
   ]
  },
  {
   "cell_type": "code",
   "execution_count": 30,
   "metadata": {
    "collapsed": true
   },
   "outputs": [],
   "source": [
    "adac_cv = cv.best_estimator_"
   ]
  },
  {
   "cell_type": "code",
   "execution_count": 31,
   "metadata": {
    "collapsed": false
   },
   "outputs": [
    {
     "name": "stdout",
     "output_type": "stream",
     "text": [
      "Confusion Matrix\n",
      "[[122978  22811      0      0      0]\n",
      " [     0  12029  16390   5508      0]\n",
      " [     0      0      0      0      0]\n",
      " [     0      0      0      0      0]\n",
      " [     0      0      0   2429   1057]]\n",
      "Costs\n",
      "[[     0.  45622.      0.      0.      0.]\n",
      " [     0.      0.  32780.  22032.      0.]\n",
      " [     0.      0.      0.      0.      0.]\n",
      " [     0.      0.      0.      0.      0.]\n",
      " [     0.      0.      0.   2429.      0.]]\n",
      "Total Cost =  0.561473128023\n"
     ]
    }
   ],
   "source": [
    "y_pred = adac_cv.predict(X_test)\n",
    "cost_calc(y_pred,y_test,True)"
   ]
  },
  {
   "cell_type": "markdown",
   "metadata": {},
   "source": [
    "### Adacost - SAMME (max_depth = 1)"
   ]
  },
  {
   "cell_type": "code",
   "execution_count": 33,
   "metadata": {
    "collapsed": true
   },
   "outputs": [],
   "source": [
    "adac = AdaCost(algorithm = \"SAMME\", cost_matrix = cost_matrix, random_state = 100)\n",
    "cv = GridSearchCV(adac,\n",
    "                  param_grid = {'learning_rate':[0.01,0.05,0.1,0.25,0.5,1],'n_estimators':[10,20,50,100,200]},\n",
    "                  scoring = score,\n",
    "                  verbose = 1, \n",
    "                  n_jobs = 1)"
   ]
  },
  {
   "cell_type": "code",
   "execution_count": 34,
   "metadata": {
    "collapsed": false
   },
   "outputs": [
    {
     "name": "stdout",
     "output_type": "stream",
     "text": [
      "Fitting 3 folds for each of 30 candidates, totalling 90 fits\n"
     ]
    },
    {
     "name": "stderr",
     "output_type": "stream",
     "text": [
      "[Parallel(n_jobs=1)]: Done  90 out of  90 | elapsed: 24.3min finished\n"
     ]
    },
    {
     "data": {
      "text/plain": [
       "GridSearchCV(cv=None, error_score='raise',\n",
       "       estimator=AdaCost(algorithm='SAMME', base_estimator=None,\n",
       "    cost_matrix=array([[ 0.,  2.,  4.,  6.,  8.],\n",
       "       [ 1.,  0.,  2.,  4.,  6.],\n",
       "       [ 2.,  1.,  0.,  2.,  4.],\n",
       "       [ 3.,  2.,  1.,  0.,  2.],\n",
       "       [ 4.,  3.,  2.,  1.,  0.]]),\n",
       "    learning_rate=1.0, n_estimators=50, random_state=100),\n",
       "       fit_params={}, iid=True, n_jobs=1,\n",
       "       param_grid={'n_estimators': [10, 20, 50, 100, 200], 'learning_rate': [0.01, 0.05, 0.1, 0.25, 0.5, 1]},\n",
       "       pre_dispatch='2*n_jobs', refit=True, return_train_score=True,\n",
       "       scoring=make_scorer(cost_calc, greater_is_better=False), verbose=1)"
      ]
     },
     "execution_count": 34,
     "metadata": {},
     "output_type": "execute_result"
    }
   ],
   "source": [
    "cv.fit(X_train,y_train)"
   ]
  },
  {
   "cell_type": "code",
   "execution_count": 35,
   "metadata": {
    "collapsed": false
   },
   "outputs": [
    {
     "name": "stderr",
     "output_type": "stream",
     "text": [
      "C:\\Users\\R51468\\AppData\\Local\\Continuum\\Anaconda2\\lib\\site-packages\\sklearn\\model_selection\\_search.py:662: DeprecationWarning: The grid_scores_ attribute was deprecated in version 0.18 in favor of the more elaborate cv_results_ attribute. The grid_scores_ attribute will not be available from 0.20\n",
      "  DeprecationWarning)\n"
     ]
    },
    {
     "data": {
      "text/plain": [
       "[mean: -0.40822, std: 0.23420, params: {'n_estimators': 10, 'learning_rate': 0.01},\n",
       " mean: -0.40822, std: 0.23420, params: {'n_estimators': 20, 'learning_rate': 0.01},\n",
       " mean: -0.40822, std: 0.23420, params: {'n_estimators': 50, 'learning_rate': 0.01},\n",
       " mean: -0.40822, std: 0.23420, params: {'n_estimators': 100, 'learning_rate': 0.01},\n",
       " mean: -0.45909, std: 0.41105, params: {'n_estimators': 200, 'learning_rate': 0.01},\n",
       " mean: -0.40822, std: 0.23420, params: {'n_estimators': 10, 'learning_rate': 0.05},\n",
       " mean: -0.33868, std: 0.24413, params: {'n_estimators': 20, 'learning_rate': 0.05},\n",
       " mean: -1.38211, std: 0.84745, params: {'n_estimators': 50, 'learning_rate': 0.05},\n",
       " mean: -1.38633, std: 0.85961, params: {'n_estimators': 100, 'learning_rate': 0.05},\n",
       " mean: -1.38633, std: 0.85961, params: {'n_estimators': 200, 'learning_rate': 0.05},\n",
       " mean: -0.33868, std: 0.24413, params: {'n_estimators': 10, 'learning_rate': 0.1},\n",
       " mean: -0.48610, std: 0.38782, params: {'n_estimators': 20, 'learning_rate': 0.1},\n",
       " mean: -0.48610, std: 0.38782, params: {'n_estimators': 50, 'learning_rate': 0.1},\n",
       " mean: -1.22100, std: 0.78717, params: {'n_estimators': 100, 'learning_rate': 0.1},\n",
       " mean: -1.38633, std: 0.85961, params: {'n_estimators': 200, 'learning_rate': 0.1},\n",
       " mean: -1.38633, std: 0.85961, params: {'n_estimators': 10, 'learning_rate': 0.25},\n",
       " mean: -0.74872, std: 0.57612, params: {'n_estimators': 20, 'learning_rate': 0.25},\n",
       " mean: -1.38633, std: 0.85961, params: {'n_estimators': 50, 'learning_rate': 0.25},\n",
       " mean: -1.38633, std: 0.85961, params: {'n_estimators': 100, 'learning_rate': 0.25},\n",
       " mean: -0.74872, std: 0.57612, params: {'n_estimators': 200, 'learning_rate': 0.25},\n",
       " mean: -1.38633, std: 0.85961, params: {'n_estimators': 10, 'learning_rate': 0.5},\n",
       " mean: -6.95567, std: 0.00007, params: {'n_estimators': 20, 'learning_rate': 0.5},\n",
       " mean: -2.13324, std: 1.16110, params: {'n_estimators': 50, 'learning_rate': 0.5},\n",
       " mean: -2.13324, std: 1.16110, params: {'n_estimators': 100, 'learning_rate': 0.5},\n",
       " mean: -4.09631, std: 2.20613, params: {'n_estimators': 200, 'learning_rate': 0.5},\n",
       " mean: -6.95567, std: 0.00007, params: {'n_estimators': 10, 'learning_rate': 1},\n",
       " mean: -6.95567, std: 0.00007, params: {'n_estimators': 20, 'learning_rate': 1},\n",
       " mean: -6.95567, std: 0.00007, params: {'n_estimators': 50, 'learning_rate': 1},\n",
       " mean: -6.95567, std: 0.00007, params: {'n_estimators': 100, 'learning_rate': 1},\n",
       " mean: -6.95567, std: 0.00007, params: {'n_estimators': 200, 'learning_rate': 1}]"
      ]
     },
     "execution_count": 35,
     "metadata": {},
     "output_type": "execute_result"
    }
   ],
   "source": [
    "cv.grid_scores_"
   ]
  },
  {
   "cell_type": "code",
   "execution_count": 36,
   "metadata": {
    "collapsed": false
   },
   "outputs": [
    {
     "data": {
      "text/plain": [
       "({'learning_rate': 0.05, 'n_estimators': 20}, -0.3386789809427117)"
      ]
     },
     "execution_count": 36,
     "metadata": {},
     "output_type": "execute_result"
    }
   ],
   "source": [
    "cv.best_params_,cv.best_score_"
   ]
  },
  {
   "cell_type": "code",
   "execution_count": 37,
   "metadata": {
    "collapsed": true
   },
   "outputs": [],
   "source": [
    "adac_cv = cv.best_estimator_"
   ]
  },
  {
   "cell_type": "code",
   "execution_count": 38,
   "metadata": {
    "collapsed": false
   },
   "outputs": [
    {
     "name": "stdout",
     "output_type": "stream",
     "text": [
      "Confusion Matrix\n",
      "[[122978      0      0      0      0]\n",
      " [     0  34840  16390      0      0]\n",
      " [     0      0      0      0      0]\n",
      " [     0      0      0   7937   1057]\n",
      " [     0      0      0      0      0]]\n",
      "Costs\n",
      "[[     0.      0.      0.      0.      0.]\n",
      " [     0.      0.  32780.      0.      0.]\n",
      " [     0.      0.      0.      0.      0.]\n",
      " [     0.      0.      0.      0.   2114.]\n",
      " [     0.      0.      0.      0.      0.]]\n",
      "Total Cost =  0.190467352976\n"
     ]
    }
   ],
   "source": [
    "y_pred = adac_cv.predict(X_test)\n",
    "cost_calc(y_pred,y_test,True)"
   ]
  },
  {
   "cell_type": "markdown",
   "metadata": {},
   "source": [
    "### Adacost - SAMME.R (max_depth = 2)"
   ]
  },
  {
   "cell_type": "code",
   "execution_count": 37,
   "metadata": {
    "collapsed": true
   },
   "outputs": [],
   "source": [
    "from sklearn.tree import DecisionTreeClassifier\n",
    "adac = AdaCost(base_estimator = DecisionTreeClassifier(max_depth = 2),\n",
    "               algorithm = \"SAMME.R\", \n",
    "               cost_matrix = cost_matrix, \n",
    "               random_state = 100)\n",
    "\n",
    "cv = GridSearchCV(adac,\n",
    "                  param_grid = {'learning_rate':[0.01,0.05,0.1,0.25,0.5,1],'n_estimators':[10,20,50,100,200]},\n",
    "                  scoring = score,\n",
    "                  verbose = 1, \n",
    "                  n_jobs = 1)"
   ]
  },
  {
   "cell_type": "code",
   "execution_count": 38,
   "metadata": {
    "collapsed": false
   },
   "outputs": [
    {
     "name": "stdout",
     "output_type": "stream",
     "text": [
      "Fitting 3 folds for each of 30 candidates, totalling 90 fits\n"
     ]
    },
    {
     "name": "stderr",
     "output_type": "stream",
     "text": [
      "[Parallel(n_jobs=1)]: Done  90 out of  90 | elapsed: 43.9min finished\n"
     ]
    },
    {
     "data": {
      "text/plain": [
       "GridSearchCV(cv=None, error_score='raise',\n",
       "       estimator=AdaCost(algorithm='SAMME.R',\n",
       "    base_estimator=DecisionTreeClassifier(class_weight=None, criterion='gini', max_depth=2,\n",
       "            max_features=None, max_leaf_nodes=None,\n",
       "            min_impurity_split=1e-07, min_samples_leaf=1,\n",
       "            min_samples_split=2, min_weight_fraction_leaf=0...  2.],\n",
       "       [ 4.,  3.,  2.,  1.,  0.]]),\n",
       "    learning_rate=1.0, n_estimators=50, random_state=100),\n",
       "       fit_params={}, iid=True, n_jobs=1,\n",
       "       param_grid={'n_estimators': [10, 20, 50, 100, 200], 'learning_rate': [0.01, 0.05, 0.1, 0.25, 0.5, 1]},\n",
       "       pre_dispatch='2*n_jobs', refit=True, return_train_score=True,\n",
       "       scoring=make_scorer(cost_calc, greater_is_better=False), verbose=1)"
      ]
     },
     "execution_count": 38,
     "metadata": {},
     "output_type": "execute_result"
    }
   ],
   "source": [
    "cv.fit(X_train,y_train)"
   ]
  },
  {
   "cell_type": "code",
   "execution_count": 39,
   "metadata": {
    "collapsed": false
   },
   "outputs": [
    {
     "name": "stderr",
     "output_type": "stream",
     "text": [
      "C:\\Users\\R51468\\AppData\\Local\\Continuum\\Anaconda2\\lib\\site-packages\\sklearn\\model_selection\\_search.py:662: DeprecationWarning: The grid_scores_ attribute was deprecated in version 0.18 in favor of the more elaborate cv_results_ attribute. The grid_scores_ attribute will not be available from 0.20\n",
      "  DeprecationWarning)\n"
     ]
    },
    {
     "data": {
      "text/plain": [
       "[mean: -0.33723, std: 0.29815, params: {'n_estimators': 10, 'learning_rate': 0.01},\n",
       " mean: -0.33723, std: 0.29815, params: {'n_estimators': 20, 'learning_rate': 0.01},\n",
       " mean: -0.33723, std: 0.29815, params: {'n_estimators': 50, 'learning_rate': 0.01},\n",
       " mean: -0.33723, std: 0.29815, params: {'n_estimators': 100, 'learning_rate': 0.01},\n",
       " mean: -0.33723, std: 0.29815, params: {'n_estimators': 200, 'learning_rate': 0.01},\n",
       " mean: -0.33723, std: 0.29815, params: {'n_estimators': 10, 'learning_rate': 0.05},\n",
       " mean: -0.33723, std: 0.29815, params: {'n_estimators': 20, 'learning_rate': 0.05},\n",
       " mean: -0.33723, std: 0.29815, params: {'n_estimators': 50, 'learning_rate': 0.05},\n",
       " mean: -0.33723, std: 0.29815, params: {'n_estimators': 100, 'learning_rate': 0.05},\n",
       " mean: -0.33723, std: 0.29815, params: {'n_estimators': 200, 'learning_rate': 0.05},\n",
       " mean: -0.33723, std: 0.29815, params: {'n_estimators': 10, 'learning_rate': 0.1},\n",
       " mean: -0.33723, std: 0.29815, params: {'n_estimators': 20, 'learning_rate': 0.1},\n",
       " mean: -0.33723, std: 0.29815, params: {'n_estimators': 50, 'learning_rate': 0.1},\n",
       " mean: -0.33723, std: 0.29815, params: {'n_estimators': 100, 'learning_rate': 0.1},\n",
       " mean: -0.33723, std: 0.29815, params: {'n_estimators': 200, 'learning_rate': 0.1},\n",
       " mean: -0.33723, std: 0.29815, params: {'n_estimators': 10, 'learning_rate': 0.25},\n",
       " mean: -0.33723, std: 0.29815, params: {'n_estimators': 20, 'learning_rate': 0.25},\n",
       " mean: -0.33723, std: 0.29815, params: {'n_estimators': 50, 'learning_rate': 0.25},\n",
       " mean: -0.33723, std: 0.29815, params: {'n_estimators': 100, 'learning_rate': 0.25},\n",
       " mean: -0.33723, std: 0.29815, params: {'n_estimators': 200, 'learning_rate': 0.25},\n",
       " mean: -0.33723, std: 0.29815, params: {'n_estimators': 10, 'learning_rate': 0.5},\n",
       " mean: -0.33723, std: 0.29815, params: {'n_estimators': 20, 'learning_rate': 0.5},\n",
       " mean: -0.33723, std: 0.29815, params: {'n_estimators': 50, 'learning_rate': 0.5},\n",
       " mean: -0.33723, std: 0.29815, params: {'n_estimators': 100, 'learning_rate': 0.5},\n",
       " mean: -0.33723, std: 0.29815, params: {'n_estimators': 200, 'learning_rate': 0.5},\n",
       " mean: -0.34013, std: 0.31816, params: {'n_estimators': 10, 'learning_rate': 1},\n",
       " mean: -0.38268, std: 0.23836, params: {'n_estimators': 20, 'learning_rate': 1},\n",
       " mean: -0.48037, std: 0.35938, params: {'n_estimators': 50, 'learning_rate': 1},\n",
       " mean: -0.48037, std: 0.35938, params: {'n_estimators': 100, 'learning_rate': 1},\n",
       " mean: -0.48037, std: 0.35938, params: {'n_estimators': 200, 'learning_rate': 1}]"
      ]
     },
     "execution_count": 39,
     "metadata": {},
     "output_type": "execute_result"
    }
   ],
   "source": [
    "cv.grid_scores_"
   ]
  },
  {
   "cell_type": "code",
   "execution_count": 40,
   "metadata": {
    "collapsed": false
   },
   "outputs": [
    {
     "data": {
      "text/plain": [
       "({'learning_rate': 0.01, 'n_estimators': 10}, -0.33723067069864593)"
      ]
     },
     "execution_count": 40,
     "metadata": {},
     "output_type": "execute_result"
    }
   ],
   "source": [
    "cv.best_params_,cv.best_score_"
   ]
  },
  {
   "cell_type": "code",
   "execution_count": 41,
   "metadata": {
    "collapsed": true
   },
   "outputs": [],
   "source": [
    "adac_cv = cv.best_estimator_"
   ]
  },
  {
   "cell_type": "code",
   "execution_count": 42,
   "metadata": {
    "collapsed": false
   },
   "outputs": [
    {
     "name": "stdout",
     "output_type": "stream",
     "text": [
      "Confusion Matrix\n",
      "[[122978      0      0      0      0]\n",
      " [     0  34840      0      0      0]\n",
      " [     0      0  16390   7937   1057]\n",
      " [     0      0      0      0      0]\n",
      " [     0      0      0      0      0]]\n",
      "Costs\n",
      "[[     0.      0.      0.      0.      0.]\n",
      " [     0.      0.      0.      0.      0.]\n",
      " [     0.      0.      0.  15874.   4228.]\n",
      " [     0.      0.      0.      0.      0.]\n",
      " [     0.      0.      0.      0.      0.]]\n",
      "Total Cost =  0.109725876355\n"
     ]
    }
   ],
   "source": [
    "y_pred = adac_cv.predict(X_test)\n",
    "cost_calc(y_pred,y_test,True)"
   ]
  },
  {
   "cell_type": "markdown",
   "metadata": {},
   "source": [
    "### Adacost - SAMME (max_depth = 2)"
   ]
  },
  {
   "cell_type": "code",
   "execution_count": 29,
   "metadata": {
    "collapsed": false
   },
   "outputs": [],
   "source": [
    "from sklearn.tree import DecisionTreeClassifier\n",
    "adac = AdaCost(base_estimator = DecisionTreeClassifier(max_depth = 2),\n",
    "               algorithm = \"SAMME\", \n",
    "               cost_matrix = cost_matrix, \n",
    "               random_state = 100)\n",
    "\n",
    "cv = GridSearchCV(adac,\n",
    "                  param_grid = {'learning_rate':[0.01,0.05,0.1,0.25,0.5,1],'n_estimators':[10,20,50,100,200]},\n",
    "                  scoring = score,\n",
    "                  verbose = 1, \n",
    "                  n_jobs = 1)"
   ]
  },
  {
   "cell_type": "code",
   "execution_count": 30,
   "metadata": {
    "collapsed": false
   },
   "outputs": [
    {
     "name": "stdout",
     "output_type": "stream",
     "text": [
      "Fitting 3 folds for each of 30 candidates, totalling 90 fits\n"
     ]
    },
    {
     "name": "stderr",
     "output_type": "stream",
     "text": [
      "[Parallel(n_jobs=1)]: Done  90 out of  90 | elapsed: 31.5min finished\n"
     ]
    },
    {
     "data": {
      "text/plain": [
       "GridSearchCV(cv=None, error_score='raise',\n",
       "       estimator=AdaCost(algorithm='SAMME',\n",
       "    base_estimator=DecisionTreeClassifier(class_weight=None, criterion='gini', max_depth=2,\n",
       "            max_features=None, max_leaf_nodes=None,\n",
       "            min_impurity_split=1e-07, min_samples_leaf=1,\n",
       "            min_samples_split=2, min_weight_fraction_leaf=0.0...  2.],\n",
       "       [ 4.,  3.,  2.,  1.,  0.]]),\n",
       "    learning_rate=1.0, n_estimators=50, random_state=100),\n",
       "       fit_params={}, iid=True, n_jobs=1,\n",
       "       param_grid={'n_estimators': [10, 20, 50, 100, 200], 'learning_rate': [0.01, 0.05, 0.1, 0.25, 0.5, 1]},\n",
       "       pre_dispatch='2*n_jobs', refit=True, return_train_score=True,\n",
       "       scoring=make_scorer(cost_calc, greater_is_better=False), verbose=1)"
      ]
     },
     "execution_count": 30,
     "metadata": {},
     "output_type": "execute_result"
    }
   ],
   "source": [
    "cv.fit(X_train,y_train)"
   ]
  },
  {
   "cell_type": "code",
   "execution_count": 31,
   "metadata": {
    "collapsed": false
   },
   "outputs": [
    {
     "name": "stderr",
     "output_type": "stream",
     "text": [
      "C:\\Users\\R51468\\AppData\\Local\\Continuum\\Anaconda2\\lib\\site-packages\\sklearn\\model_selection\\_search.py:662: DeprecationWarning: The grid_scores_ attribute was deprecated in version 0.18 in favor of the more elaborate cv_results_ attribute. The grid_scores_ attribute will not be available from 0.20\n",
      "  DeprecationWarning)\n"
     ]
    },
    {
     "data": {
      "text/plain": [
       "[mean: -0.33723, std: 0.29815, params: {'n_estimators': 10, 'learning_rate': 0.01},\n",
       " mean: -0.33723, std: 0.29815, params: {'n_estimators': 20, 'learning_rate': 0.01},\n",
       " mean: -0.33723, std: 0.29815, params: {'n_estimators': 50, 'learning_rate': 0.01},\n",
       " mean: -0.48304, std: 0.39004, params: {'n_estimators': 100, 'learning_rate': 0.01},\n",
       " mean: -0.32499, std: 0.34072, params: {'n_estimators': 200, 'learning_rate': 0.01},\n",
       " mean: -0.33723, std: 0.29815, params: {'n_estimators': 10, 'learning_rate': 0.05},\n",
       " mean: -0.49031, std: 0.40030, params: {'n_estimators': 20, 'learning_rate': 0.05},\n",
       " mean: -0.32499, std: 0.34072, params: {'n_estimators': 50, 'learning_rate': 0.05},\n",
       " mean: -0.32499, std: 0.34072, params: {'n_estimators': 100, 'learning_rate': 0.05},\n",
       " mean: -0.74872, std: 0.57612, params: {'n_estimators': 200, 'learning_rate': 0.05},\n",
       " mean: -0.32499, std: 0.34072, params: {'n_estimators': 10, 'learning_rate': 0.1},\n",
       " mean: -0.32499, std: 0.34072, params: {'n_estimators': 20, 'learning_rate': 0.1},\n",
       " mean: -0.32499, std: 0.34072, params: {'n_estimators': 50, 'learning_rate': 0.1},\n",
       " mean: -0.32499, std: 0.34072, params: {'n_estimators': 100, 'learning_rate': 0.1},\n",
       " mean: -0.74872, std: 0.57612, params: {'n_estimators': 200, 'learning_rate': 0.1},\n",
       " mean: -0.32499, std: 0.34072, params: {'n_estimators': 10, 'learning_rate': 0.25},\n",
       " mean: -0.32499, std: 0.34072, params: {'n_estimators': 20, 'learning_rate': 0.25},\n",
       " mean: -0.32499, std: 0.34072, params: {'n_estimators': 50, 'learning_rate': 0.25},\n",
       " mean: -0.32499, std: 0.34072, params: {'n_estimators': 100, 'learning_rate': 0.25},\n",
       " mean: -0.32499, std: 0.34072, params: {'n_estimators': 200, 'learning_rate': 0.25},\n",
       " mean: -0.32499, std: 0.34072, params: {'n_estimators': 10, 'learning_rate': 0.5},\n",
       " mean: -0.32499, std: 0.34072, params: {'n_estimators': 20, 'learning_rate': 0.5},\n",
       " mean: -0.32499, std: 0.34072, params: {'n_estimators': 50, 'learning_rate': 0.5},\n",
       " mean: -0.32499, std: 0.34072, params: {'n_estimators': 100, 'learning_rate': 0.5},\n",
       " mean: -0.32499, std: 0.34072, params: {'n_estimators': 200, 'learning_rate': 0.5},\n",
       " mean: -6.95567, std: 0.00007, params: {'n_estimators': 10, 'learning_rate': 1},\n",
       " mean: -6.95567, std: 0.00007, params: {'n_estimators': 20, 'learning_rate': 1},\n",
       " mean: -6.95567, std: 0.00007, params: {'n_estimators': 50, 'learning_rate': 1},\n",
       " mean: -6.95567, std: 0.00007, params: {'n_estimators': 100, 'learning_rate': 1},\n",
       " mean: -6.95567, std: 0.00007, params: {'n_estimators': 200, 'learning_rate': 1}]"
      ]
     },
     "execution_count": 31,
     "metadata": {},
     "output_type": "execute_result"
    }
   ],
   "source": [
    "cv.grid_scores_"
   ]
  },
  {
   "cell_type": "code",
   "execution_count": 32,
   "metadata": {
    "collapsed": false
   },
   "outputs": [
    {
     "data": {
      "text/plain": [
       "({'learning_rate': 0.01, 'n_estimators': 200}, -0.32498917406287414)"
      ]
     },
     "execution_count": 32,
     "metadata": {},
     "output_type": "execute_result"
    }
   ],
   "source": [
    "cv.best_params_,cv.best_score_"
   ]
  },
  {
   "cell_type": "code",
   "execution_count": 34,
   "metadata": {
    "collapsed": true
   },
   "outputs": [],
   "source": [
    "adac_cv = cv.best_estimator_"
   ]
  },
  {
   "cell_type": "code",
   "execution_count": 35,
   "metadata": {
    "collapsed": false
   },
   "outputs": [
    {
     "name": "stdout",
     "output_type": "stream",
     "text": [
      "Confusion Matrix\n",
      "[[122978      0      0      0      0]\n",
      " [     0  34840      0      0      0]\n",
      " [     0      0  16390      0      0]\n",
      " [     0      0      0   7936      0]\n",
      " [     0      0      0      1   1057]]\n",
      "Costs\n",
      "[[ 0.  0.  0.  0.  0.]\n",
      " [ 0.  0.  0.  0.  0.]\n",
      " [ 0.  0.  0.  0.  0.]\n",
      " [ 0.  0.  0.  0.  0.]\n",
      " [ 0.  0.  0.  1.  0.]]\n",
      "Total Cost =  5.45845569372e-06\n"
     ]
    }
   ],
   "source": [
    "y_pred = adac_cv.predict(X_test)\n",
    "cost_calc(y_pred,y_test,True)"
   ]
  },
  {
   "cell_type": "markdown",
   "metadata": {},
   "source": [
    "### Random"
   ]
  },
  {
   "cell_type": "code",
   "execution_count": 39,
   "metadata": {
    "collapsed": false
   },
   "outputs": [
    {
     "name": "stdout",
     "output_type": "stream",
     "text": [
      "Confusion Matrix\n",
      "[[122978      0      0      0      0]\n",
      " [     0  34840      0      0      0]\n",
      " [     0      0      0      0      0]\n",
      " [     0      0  16390   7937   1057]\n",
      " [     0      0      0      0      0]]\n",
      "Costs\n",
      "[[     0.      0.      0.      0.      0.]\n",
      " [     0.      0.      0.      0.      0.]\n",
      " [     0.      0.      0.      0.      0.]\n",
      " [     0.      0.  16390.      0.   2114.]\n",
      " [     0.      0.      0.      0.      0.]]\n",
      "Total Cost =  0.101003264157\n"
     ]
    }
   ],
   "source": [
    "ada = AdaCost(algorithm = \"SAMME\", \n",
    "              learning_rate = 0.1,\n",
    "              n_estimators = 50, \n",
    "              cost_matrix = cost_matrix, \n",
    "              random_state = 100)\n",
    "ada.fit(X_train,y_train) \n",
    "y_pred = ada.predict(X_test)\n",
    "cost_calc(y_pred,y_test,True)"
   ]
  },
  {
   "cell_type": "code",
   "execution_count": 9,
   "metadata": {
    "collapsed": false
   },
   "outputs": [
    {
     "name": "stdout",
     "output_type": "stream",
     "text": [
      "Confusion Matrix\n",
      "[[122978      0      0      0      0]\n",
      " [     0  34840      0      0      0]\n",
      " [     0      0  16390      0      0]\n",
      " [     0      0      0   7936      0]\n",
      " [     0      0      0      1   1057]]\n",
      "Costs\n",
      "[[ 0.  0.  0.  0.  0.]\n",
      " [ 0.  0.  0.  0.  0.]\n",
      " [ 0.  0.  0.  0.  0.]\n",
      " [ 0.  0.  0.  0.  0.]\n",
      " [ 0.  0.  0.  1.  0.]]\n",
      "Total Cost =  5.45845569372e-06\n"
     ]
    }
   ],
   "source": [
    "ada = AdaCost(algorithm = \"SAMME\",\n",
    "              max_depth = 2,\n",
    "              learning_rate = 0.1,\n",
    "              n_estimators =50, \n",
    "              cost_matrix = cost_matrix, \n",
    "              random_state = 100)\n",
    "ada.fit(X_train,y_train) \n",
    "y_pred = ada.predict(X_test)\n",
    "cost_calc(y_pred,y_test,True)"
   ]
  },
  {
   "cell_type": "code",
   "execution_count": 19,
   "metadata": {
    "collapsed": false
   },
   "outputs": [
    {
     "name": "stdout",
     "output_type": "stream",
     "text": [
      "Confusion Matrix\n",
      "[[122978      0      0      0      0]\n",
      " [     0  34840      0      0      0]\n",
      " [     0      0  16390      0      0]\n",
      " [     0      0      0   7937   1057]\n",
      " [     0      0      0      0      0]]\n",
      "Costs\n",
      "[[    0.     0.     0.     0.     0.]\n",
      " [    0.     0.     0.     0.     0.]\n",
      " [    0.     0.     0.     0.     0.]\n",
      " [    0.     0.     0.     0.  2114.]\n",
      " [    0.     0.     0.     0.     0.]]\n",
      "Total Cost =  0.0115391753365\n"
     ]
    }
   ],
   "source": [
    "ada = AdaCost(algorithm = \"SAMME.R\",\n",
    "              max_depth = 3,\n",
    "              learning_rate = 0.01,\n",
    "              n_estimators =50, \n",
    "              cost_matrix = cost_matrix, \n",
    "              random_state = 100)\n",
    "ada.fit(X_train,y_train) \n",
    "y_pred = ada.predict(X_test)\n",
    "cost_calc(y_pred,y_test,True)"
   ]
  }
 ],
 "metadata": {
  "kernelspec": {
   "display_name": "Python [Root]",
   "language": "python",
   "name": "Python [Root]"
  },
  "language_info": {
   "codemirror_mode": {
    "name": "ipython",
    "version": 2
   },
   "file_extension": ".py",
   "mimetype": "text/x-python",
   "name": "python",
   "nbconvert_exporter": "python",
   "pygments_lexer": "ipython2",
   "version": "2.7.12"
  }
 },
 "nbformat": 4,
 "nbformat_minor": 0
}
